{
 "cells": [
  {
   "cell_type": "code",
   "execution_count": 6,
   "metadata": {},
   "outputs": [],
   "source": [
    "from scipy import signal"
   ]
  },
  {
   "cell_type": "code",
   "execution_count": 7,
   "metadata": {},
   "outputs": [],
   "source": [
    "\n",
    "#####################################################################\n",
    "# function firFilter\n",
    "\n",
    "# Usage: \n",
    "# filtered_audio = firFilter(sample_data,fs)\n",
    "\n",
    "# Input arguments:\n",
    "# audio_data = sampled audio data of 10 seconds (can be more)\n",
    "# fs = sampling frequency\n",
    "# cutoff_frequency = frequency above which filter cutoff noise\n",
    "#filter_order = no. of iteration filter makes, higher the order, more precise filter is\n",
    "\n",
    "# Return:\n",
    "# returns filtered audio data\n",
    "\n",
    "####################################################################\n",
    "def firFilter(audio_data,fs,cutoff_frequency = 4000,filter_order = 50):\n",
    "    \n",
    "    #Min-Max Normalization\n",
    "    min_data = min(audio_data)\n",
    "    max_data = max(audio_data)\n",
    "    audio_data = (audio_data - min_data)/(max_data - min_data)\n",
    "    #Normalization complete\n",
    "    \n",
    "    nyquist_rate = fs/2.0\n",
    "    normalized_cutoff_frequency = cutoff_frequency/nyquist_rate\n",
    "    \n",
    "    filter_coefficent = firwin(filter_order,cutoff=normalized_cutoff_frequency,window = \"hamming\")\n",
    "    filtered_signal = lfilter(filter_coefficent,1.0,audio_data)\n",
    "    return filtered_signal"
   ]
  }
 ],
 "metadata": {
  "kernelspec": {
   "display_name": "Python 3",
   "language": "python",
   "name": "python3"
  },
  "language_info": {
   "codemirror_mode": {
    "name": "ipython",
    "version": 3
   },
   "file_extension": ".py",
   "mimetype": "text/x-python",
   "name": "python",
   "nbconvert_exporter": "python",
   "pygments_lexer": "ipython3",
   "version": "3.7.3"
  }
 },
 "nbformat": 4,
 "nbformat_minor": 2
}
